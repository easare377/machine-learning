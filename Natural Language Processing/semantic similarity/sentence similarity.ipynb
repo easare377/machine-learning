{
 "cells": [
  {
   "cell_type": "code",
   "execution_count": null,
   "metadata": {},
   "outputs": [],
   "source": []
  },
  {
   "cell_type": "code",
   "execution_count": null,
   "metadata": {},
   "outputs": [],
   "source": [
    "def load_data(df):\n",
    "    question1 = df['\"question1\"'].astype(str).values\n",
    "    question2 = df['\"question2\"'].astype(str).values\n",
    "    # combined: to get the tokens\n",
    "    df['combined'] = df['\"question1\"'] + df['\"question2\"']\n",
    "    labels = df['\"is_duplicate\"'].values\n",
    "    return question1, question2, labels\n",
    "\n",
    "\n",
    "question1, question2, labels = load_data(df)\n",
    "question1 = list(question1)\n",
    "question2 = list(question2)\n",
    "combined = question1 + question2df.head()\n"
   ]
  },
  {
   "cell_type": "code",
   "execution_count": null,
   "metadata": {},
   "outputs": [],
   "source": [
    "def cleanAscii(text):\n",
    "    return ''.join(i for i in text if ord(i) < 128)\n"
   ]
  }
 ],
 "metadata": {
  "language_info": {
   "name": "python"
  },
  "orig_nbformat": 4
 },
 "nbformat": 4,
 "nbformat_minor": 2
}
