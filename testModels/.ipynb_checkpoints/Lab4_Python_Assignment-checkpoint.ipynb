{
 "cells": [
  {
   "cell_type": "markdown",
   "id": "909f1793",
   "metadata": {
    "deletable": false,
    "editable": false
   },
   "source": [
    "## Due: February 10 on Gradescope at 8:00 AM\n",
    "\n",
    "#### Rename the notebook with your first and last name followed by the lab name, i.e., ```LastFirst_Lab4_Python_Assignment.ipynb```. All work will be included in this notebook and you will upload this notebook to Gradesope. \n",
    "\n",
    "#### There is NO \"pencil and paper\" work to be done with this lab."
   ]
  },
  {
   "cell_type": "code",
   "execution_count": null,
   "id": "c31c0048",
   "metadata": {
    "deletable": false
   },
   "outputs": [],
   "source": [
    "# Run this cell to set various plot parameters.\n",
    "from matplotlib import pyplot as plt\n",
    "plt.rcParams.update({\"figure.figsize\":[10,8],'font.size':18,'lines.linewidth':3})\n",
    "plt.rcParams.update({'legend.fontsize':16,'xtick.labelsize':20,'ytick.labelsize':20})"
   ]
  },
  {
   "cell_type": "markdown",
   "id": "a5ff1a54",
   "metadata": {
    "deletable": false,
    "editable": false
   },
   "source": [
    "<span style=\"color:darkblue\">\n",
    "    \n",
    "# Exercise 1\n",
    "\n",
    "## Exercise 1.1\n",
    "1. Write a **for loop** for Improved Euler's Method in a function that takes the initial conditions $(t_0,x_0)$, the final time $t_{\\text{final}}$, and **the number of iterations**, $N$, as inputs and returns the time vector $t$ and the solution vector $x$. \n",
    "\n",
    "2. Test your code on the following problem \\begin{equation} \\begin{cases} \\displaystyle \\frac{dx}{dt} = xt, \\\\ x(1) =2.\\end{cases}\\end{equation} Show that your solution matches the following cases by evaluating each case and printing the result. Note that $\\overline{x}$ is the approximate solution.\n",
    "    1. With $N$ = 10, $\\overline{x}(2) = 8.913058$ and $\\overline{x}(3) = 99.274020$.\n",
    "    2. With $N$ = 250, $\\overline{x}(2) = 8.963289$ and $\\overline{x}(3) = 109.173329$.\n",
    "\n",
    "**Note**: You can return multiple variables from a function by giving them in the same ```return``` line separated by a comma. You can access the variables from the function the same way. For example,\n",
    "```python\n",
    "def function(a):\n",
    "    return 2*a, a**2\n",
    "x, y = function(5)\n",
    "```\n",
    "This function will compute twice the value of $a$ and square the value of $a$ and return them at the same time, we then stored twice the value of $a$ as $x$ and the square of $a$ as $y$.\n",
    "</span>"
   ]
  },
  {
   "cell_type": "code",
   "execution_count": null,
   "id": "005c147f",
   "metadata": {},
   "outputs": [],
   "source": []
  },
  {
   "cell_type": "markdown",
   "id": "e5878c7c",
   "metadata": {
    "deletable": false,
    "editable": false
   },
   "source": [
    "<span style=\"color:darkblue\">\n",
    "\n",
    "## Exercise 1.2\n",
    "The typical way to test a numerical solver in practice is to run your code on a problem with a known solution and analyze how the error changes when you increase $N$. For this problem, consider $$\\begin{cases} \\displaystyle \\frac{dy}{dx} = y, \\\\ y(0)=1. \\end{cases}$$\n",
    "    \n",
    "We will denote the exact solution by $y$ and the approximate solution from Improved Euler's Method with $N$ steps by $y_N$. Then, define the cumulative error by $$E_N = |y(1)-y_N(1)|.$$\n",
    "    \n",
    "1. Write a function that computes the cumulative error, for this test problem, that takes $N$ as the input and returns $E_N$. \n",
    "2. Use a loop to compute the error for ```N = 2**np.array(range(1,10))``` and store the errors in a vector ```E```.\n",
    "3. Plot N vs E. Be sure to label the axes appropriately. \n",
    "    \n",
    "</span>"
   ]
  },
  {
   "cell_type": "code",
   "execution_count": null,
   "id": "eedd7f10",
   "metadata": {},
   "outputs": [],
   "source": []
  },
  {
   "cell_type": "markdown",
   "id": "a47922f3",
   "metadata": {
    "deletable": false,
    "editable": false
   },
   "source": [
    "<span style=\"color:darkblue\">\n",
    "\n",
    "4. You can probably tell from your plots that since errors go to zero very quickly, plotting errors in this way do not provide much insight. Instead, use ```plt.semilogy(N,E)``` to plot (N,log(E)), which should provide more insight for the final question. After you plot the error, use ```plt.grid()``` to include a grid background with your plot. Be sure to label the axes appropriately. \n",
    "    \n",
    "**Note:** Other plots you can try out, but are not required to here, are ```plt.loglog()``` and ```plt.semilogx()```. \n",
    "</span>"
   ]
  },
  {
   "cell_type": "code",
   "execution_count": null,
   "id": "359691d1",
   "metadata": {},
   "outputs": [],
   "source": []
  },
  {
   "cell_type": "markdown",
   "id": "c2b06503",
   "metadata": {
    "deletable": false,
    "editable": false
   },
   "source": [
    "<span style=\"color:darkblue\">\n",
    "    \n",
    "5. Use your last plot to estimate what value of $N$ you should use for this problem if you want to ensure $|y(1)-y_N(1)|<10^{-5}$.\n",
    "    \n",
    "</span>"
   ]
  },
  {
   "cell_type": "markdown",
   "id": "64e21266",
   "metadata": {},
   "source": [
    "Type your answer here. "
   ]
  },
  {
   "cell_type": "markdown",
   "id": "e67942d7",
   "metadata": {
    "deletable": false,
    "editable": false
   },
   "source": [
    "<span style=\"color:darkblue\">\n",
    "\n",
    "# Exercise 2\n",
    "If we drop a package from a helicopter with a parachute attached, the wind resistance provided by the parachute does not depend linearly on the velocity. In this lab we will compare solutions to data to deteremine the appropriate model for the wind resistance with this parachute. Assume that for a certain type of parachute the velocity initial value problem is modeled by: $$\\begin{cases}\\displaystyle\\frac{dv}{dt} = -9.8 - av - b\\ \\text{sign}(v) |v|^{r}, \\\\ v(0) = v_0, \\end{cases}$$\n",
    "where velocity is measured in meters/second and time is measured in seconds. Here, $a, b \\in (0,1)$ and $r\\in (1,2)$.\n",
    "\n",
    "## Exercise 2.1\n",
    "1. Write a function for the right hand side of the differential equation.\n",
    "2. Set $a = 0.1$, $b = 0.2$, $r = 1.4$, $v_0 = 2.0$. Use one of your Improved Euler's Methods to approximate $v(1)$, $v(2)$, $v(3)$, with a sufficienly small step size such that the solution is accurate to 4 decimal places. To check that you are accurate to 4 decimal places, double the value for $N$ and check that the first four decimals values for $v(1)$, $v(2)$, $v(3)$ do not change.\n",
    "3. Plot $v(t)$ versus $t$. Be sure to label the axes appropriately and include units.\n",
    "    \n",
    "</span>"
   ]
  },
  {
   "cell_type": "code",
   "execution_count": null,
   "id": "d85b313b",
   "metadata": {},
   "outputs": [],
   "source": []
  },
  {
   "cell_type": "markdown",
   "id": "0bd65546",
   "metadata": {
    "deletable": false,
    "editable": false
   },
   "source": [
    "<span style=\"color:darkblue\">\n",
    "\n",
    "## Exercise 2.2\n",
    "Data is provided below on the measured velocities for 4 different tests for the first 5 seconds after the package leaves the helicopter. You are going to determine the values for $a$, $b$, $r$ that best models the problem. \n",
    "\n",
    "1. Determine the initial velocity, $v_0$, from the provided data to use in your simulations. \n",
    "    \n",
    "</span>"
   ]
  },
  {
   "cell_type": "code",
   "execution_count": 31,
   "id": "b6ef9f16",
   "metadata": {
    "deletable": false,
    "editable": false
   },
   "outputs": [
    {
     "data": {
      "text/plain": [
       "Text(0, 0.5, 'velocity, meters/seconds')"
      ]
     },
     "execution_count": 31,
     "metadata": {},
     "output_type": "execute_result"
    },
    {
     "data": {
      "image/png": "[encoded data removed]",
      "text/plain": [
       "<Figure size 720x576 with 1 Axes>"
      ]
     },
     "metadata": {
      "needs_background": "light"
     },
     "output_type": "display_data"
    }
   ],
   "source": [
    "time_points = [0.0, 0.2, 0.4, 0.6, 0.8, 1.0, 1.2, 1.4, 1.6, 1.8, 2.0, 2.2, 2.4, 2.6, 2.8, 3.0, 3.2, 3.4, 3.6, 3.8, 4.0, 4.2, 4.4, 4.6, 4.8, 5.0]\n",
    "v_data_1 = [1.0, -1.0628, -2.59329, -3.92639, -5.71045, -6.67049, -6.57149, -7.8864, -8.60677, -9.41433, -9.26048, -10.16991, -10.62638, -10.02258, -10.03812, -10.54928, -10.88734, -10.59045, -10.8595, -11.05668, -11.10884, -10.84367, -11.10215, -10.74782, -11.07995, -10.98789]\n",
    "v_data_2 = [1.0, -1.0523, -2.66553, -4.31691, -4.84858, -5.72391, -6.34606, -6.64585, -6.58322, -7.11567, -7.18712, -7.62238, -7.25257, -6.91563, -7.36592, -7.35602, -7.25991, -7.43206, -7.28693, -7.54308, -7.06058, -7.36063, -7.28827, -7.42319, -6.78368, -7.37584]\n",
    "v_data_3 = [1.0, -1.43716, -2.48564, -3.91256, -5.47943, -6.11927, -6.84739, -6.77197, -7.40206, -7.81547, -7.54888, -8.2113, -7.86884, -8.90986, -8.46774, -8.26947, -8.28052, -8.10102, -8.55233, -7.90064, -8.35388, -8.58862, -8.27132, -8.67848, -8.30226, -8.46737]\n",
    "v_data_4 = [1.0, -1.26857, -2.69419, -4.10738, -5.69326, -6.30579, -6.75463, -7.43855, -7.8443, -8.46646, -8.4165, -8.437, -8.99006, -8.51419, -9.48553, -8.96426, -8.96916, -9.27614, -9.45725, -9.15236, -9.26998, -8.91701, -9.64355, -9.33421, -9.32615, -9.37342]\n",
    "plt.scatter(time_points,v_data_1,label = 'package 1')\n",
    "plt.scatter(time_points,v_data_2,label = 'package 2')\n",
    "plt.scatter(time_points,v_data_3,label = 'package 3')\n",
    "plt.scatter(time_points,v_data_4,label = 'package 4')\n",
    "plt.title('Measured velocities for 4 package drops')\n",
    "plt.legend()\n",
    "plt.xlabel('time, seconds')\n",
    "plt.ylabel('velocity, meters/seconds')"
   ]
  },
  {
   "cell_type": "markdown",
   "id": "fe9fef7b",
   "metadata": {
    "deletable": false,
    "editable": false
   },
   "source": [
    "<span style=\"color:darkblue\">\n",
    "    \n",
    "2. Test different values of $a$, $b$, $r$ and plot the solutions on top of the data to determine (visually, i.e., simply looking at your plots) the best model parameters. Include the values of $a$, $b$, and $r$ in the legend. It might be useful, althought not required, to create a separate function that takes inputs $a$, $b$, $r$ and plots the approximate solution $v(t)$. \n",
    "    \n",
    "</span>"
   ]
  },
  {
   "cell_type": "code",
   "execution_count": 30,
   "id": "50c8bc6e",
   "metadata": {
    "deletable": false
   },
   "outputs": [
    {
     "data": {
      "text/plain": [
       "<matplotlib.collections.PathCollection at 0x7fb5cc401950>"
      ]
     },
     "execution_count": 30,
     "metadata": {},
     "output_type": "execute_result"
    },
    {
     "data": {
      "image/png": "[encoded data removed]",
      "text/plain": [
       "<Figure size 720x576 with 1 Axes>"
      ]
     },
     "metadata": {
      "needs_background": "light"
     },
     "output_type": "display_data"
    }
   ],
   "source": [
    "plt.scatter(time_points,v_data_1,label = 'package 1')\n",
    "plt.scatter(time_points,v_data_2,label = 'package 2')\n",
    "plt.scatter(time_points,v_data_3,label = 'package 3')\n",
    "plt.scatter(time_points,v_data_4,label = 'package 4')\n",
    "# Plot your solutions below. "
   ]
  },
  {
   "cell_type": "markdown",
   "id": "27f0d2ab",
   "metadata": {
    "deletable": false,
    "editable": false
   },
   "source": [
    "<span style=\"color:darkblue\">\n",
    "3. For your final answer, include three different test cases on the above plot, including your final decision for $a$, $b$, $r$. What is your final values for $a$, $b$, $r$? Explain how you ultimately decided on these values. \n",
    "</span>"
   ]
  },
  {
   "cell_type": "markdown",
   "id": "704ecbca",
   "metadata": {
    "deletable": false
   },
   "source": [
    "a = ?\n",
    "\n",
    "b = ?\n",
    "\n",
    "r = ? \n",
    "\n",
    "Explain your decision here. "
   ]
  },
  {
   "cell_type": "markdown",
   "id": "7a4f09cf",
   "metadata": {
    "deletable": false,
    "editable": false
   },
   "source": [
    "<span style=\"color:darkblue\">\n",
    "\n",
    "4. After you have a model that approximates the data sufficiently, use that model to test different initial conditions. Plot the $v(t)$ for $t\\in(0,10)$ with $v_0 = -4,-2,0,2,4$. Include a legend for the initial velocity. Be sure to label the axes appropriately and include units.\n",
    "    \n",
    "</span>"
   ]
  },
  {
   "cell_type": "code",
   "execution_count": null,
   "id": "141a13a2",
   "metadata": {},
   "outputs": [],
   "source": []
  },
  {
   "cell_type": "markdown",
   "id": "0b12cc72",
   "metadata": {
    "deletable": false,
    "editable": false
   },
   "source": [
    "<span style=\"color:darkblue\">\n",
    "\n",
    "5. Does the initial condition have any effect on the velocity at time $t=10$? Explain why or why not.\n",
    "    \n",
    "</span>"
   ]
  },
  {
   "cell_type": "markdown",
   "id": "c88316be",
   "metadata": {},
   "source": [
    "Enter your answer and explanation here. "
   ]
  }
 ],
 "metadata": {
  "kernelspec": {
   "display_name": "Python 3 (ipykernel)",
   "language": "python",
   "name": "python3"
  },
  "language_info": {
   "codemirror_mode": {
    "name": "ipython",
    "version": 3
   },
   "file_extension": ".py",
   "mimetype": "text/x-python",
   "name": "python",
   "nbconvert_exporter": "python",
   "pygments_lexer": "ipython3",
   "version": "3.8.8"
  }
 },
 "nbformat": 4,
 "nbformat_minor": 5
}
