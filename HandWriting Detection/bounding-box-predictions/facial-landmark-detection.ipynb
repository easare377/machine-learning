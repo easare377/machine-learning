{
 "cells": [
  {
   "cell_type": "code",
   "execution_count": 2,
   "metadata": {},
   "outputs": [],
   "source": [
    "from keras.datasets import mnist\n",
    "from keras.models import Sequential\n",
    "from keras.layers import Dense, Dropout, Conv2D, MaxPool2D, Flatten, LSTM, BatchNormalization, MaxPooling2D, Input\n",
    "from keras.utils import np_utils\n",
    "import numpy as np\n",
    "import pandas as pd\n",
    "from matplotlib import pyplot as plt\n",
    "import tensorflow as tf\n",
    "import os\n",
    "from tensorflow.keras.applications.vgg16 import VGG16\n",
    "from tensorflow.keras.applications.vgg16 import preprocess_input\n",
    "import cv2\n",
    "from skimage.transform import resize\n"
   ]
  },
  {
   "cell_type": "code",
   "execution_count": 20,
   "metadata": {},
   "outputs": [
    {
     "name": "stdout",
     "output_type": "stream",
     "text": [
      "data/face_images.npz\n"
     ]
    }
   ],
   "source": [
    "face_images_path = os.path.join('data', 'face_images.npz')\n",
    "keypoints_dir = os.path.join('data', 'facial_keypoints.csv') \n",
    "print(face_images_path)\n"
   ]
  },
  {
   "cell_type": "code",
   "execution_count": 21,
   "metadata": {},
   "outputs": [],
   "source": [
    "images = np.load(face_images_path)['face_images']"
   ]
  },
  {
   "cell_type": "code",
   "execution_count": 22,
   "metadata": {},
   "outputs": [],
   "source": [
    "facial_keypoints = pd.read_csv(keypoints_dir)"
   ]
  },
  {
   "cell_type": "code",
   "execution_count": 5,
   "metadata": {},
   "outputs": [
    {
     "data": {
      "text/plain": [
       "7049"
      ]
     },
     "execution_count": 5,
     "metadata": {},
     "output_type": "execute_result"
    }
   ],
   "source": [
    "images.shape[2]\n"
   ]
  },
  {
   "cell_type": "code",
   "execution_count": 116,
   "metadata": {},
   "outputs": [
    {
     "data": {
      "text/html": [
       "<div>\n",
       "<style scoped>\n",
       "    .dataframe tbody tr th:only-of-type {\n",
       "        vertical-align: middle;\n",
       "    }\n",
       "\n",
       "    .dataframe tbody tr th {\n",
       "        vertical-align: top;\n",
       "    }\n",
       "\n",
       "    .dataframe thead th {\n",
       "        text-align: right;\n",
       "    }\n",
       "</style>\n",
       "<table border=\"1\" class=\"dataframe\">\n",
       "  <thead>\n",
       "    <tr style=\"text-align: right;\">\n",
       "      <th></th>\n",
       "      <th>left_eye_center_x</th>\n",
       "      <th>left_eye_center_y</th>\n",
       "      <th>right_eye_center_x</th>\n",
       "      <th>right_eye_center_y</th>\n",
       "      <th>left_eye_inner_corner_x</th>\n",
       "      <th>left_eye_inner_corner_y</th>\n",
       "      <th>left_eye_outer_corner_x</th>\n",
       "      <th>left_eye_outer_corner_y</th>\n",
       "      <th>right_eye_inner_corner_x</th>\n",
       "      <th>right_eye_inner_corner_y</th>\n",
       "      <th>...</th>\n",
       "      <th>nose_tip_x</th>\n",
       "      <th>nose_tip_y</th>\n",
       "      <th>mouth_left_corner_x</th>\n",
       "      <th>mouth_left_corner_y</th>\n",
       "      <th>mouth_right_corner_x</th>\n",
       "      <th>mouth_right_corner_y</th>\n",
       "      <th>mouth_center_top_lip_x</th>\n",
       "      <th>mouth_center_top_lip_y</th>\n",
       "      <th>mouth_center_bottom_lip_x</th>\n",
       "      <th>mouth_center_bottom_lip_y</th>\n",
       "    </tr>\n",
       "  </thead>\n",
       "  <tbody>\n",
       "    <tr>\n",
       "      <th>0</th>\n",
       "      <td>66.033564</td>\n",
       "      <td>39.002274</td>\n",
       "      <td>30.227008</td>\n",
       "      <td>36.421678</td>\n",
       "      <td>59.582075</td>\n",
       "      <td>39.647423</td>\n",
       "      <td>73.130346</td>\n",
       "      <td>39.969997</td>\n",
       "      <td>36.356571</td>\n",
       "      <td>37.389402</td>\n",
       "      <td>...</td>\n",
       "      <td>44.420571</td>\n",
       "      <td>57.066803</td>\n",
       "      <td>61.195308</td>\n",
       "      <td>79.970165</td>\n",
       "      <td>28.614496</td>\n",
       "      <td>77.388992</td>\n",
       "      <td>43.312602</td>\n",
       "      <td>72.935459</td>\n",
       "      <td>43.130707</td>\n",
       "      <td>84.485774</td>\n",
       "    </tr>\n",
       "    <tr>\n",
       "      <th>1</th>\n",
       "      <td>64.332936</td>\n",
       "      <td>34.970077</td>\n",
       "      <td>29.949277</td>\n",
       "      <td>33.448715</td>\n",
       "      <td>58.856170</td>\n",
       "      <td>35.274349</td>\n",
       "      <td>70.722723</td>\n",
       "      <td>36.187166</td>\n",
       "      <td>36.034723</td>\n",
       "      <td>34.361532</td>\n",
       "      <td>...</td>\n",
       "      <td>48.206298</td>\n",
       "      <td>55.660936</td>\n",
       "      <td>56.421447</td>\n",
       "      <td>76.352000</td>\n",
       "      <td>35.122383</td>\n",
       "      <td>76.047660</td>\n",
       "      <td>46.684596</td>\n",
       "      <td>70.266553</td>\n",
       "      <td>45.467915</td>\n",
       "      <td>85.480170</td>\n",
       "    </tr>\n",
       "    <tr>\n",
       "      <th>2</th>\n",
       "      <td>65.057053</td>\n",
       "      <td>34.909642</td>\n",
       "      <td>30.903789</td>\n",
       "      <td>34.909642</td>\n",
       "      <td>59.412000</td>\n",
       "      <td>36.320968</td>\n",
       "      <td>70.984421</td>\n",
       "      <td>36.320968</td>\n",
       "      <td>37.678105</td>\n",
       "      <td>36.320968</td>\n",
       "      <td>...</td>\n",
       "      <td>47.557263</td>\n",
       "      <td>53.538947</td>\n",
       "      <td>60.822947</td>\n",
       "      <td>73.014316</td>\n",
       "      <td>33.726316</td>\n",
       "      <td>72.732000</td>\n",
       "      <td>47.274947</td>\n",
       "      <td>70.191789</td>\n",
       "      <td>47.274947</td>\n",
       "      <td>78.659368</td>\n",
       "    </tr>\n",
       "    <tr>\n",
       "      <th>3</th>\n",
       "      <td>65.225739</td>\n",
       "      <td>37.261774</td>\n",
       "      <td>32.023096</td>\n",
       "      <td>37.261774</td>\n",
       "      <td>60.003339</td>\n",
       "      <td>39.127179</td>\n",
       "      <td>72.314713</td>\n",
       "      <td>38.380967</td>\n",
       "      <td>37.618643</td>\n",
       "      <td>38.754115</td>\n",
       "      <td>...</td>\n",
       "      <td>51.885078</td>\n",
       "      <td>54.166539</td>\n",
       "      <td>65.598887</td>\n",
       "      <td>72.703722</td>\n",
       "      <td>37.245496</td>\n",
       "      <td>74.195478</td>\n",
       "      <td>50.303165</td>\n",
       "      <td>70.091687</td>\n",
       "      <td>51.561183</td>\n",
       "      <td>78.268383</td>\n",
       "    </tr>\n",
       "    <tr>\n",
       "      <th>4</th>\n",
       "      <td>66.725301</td>\n",
       "      <td>39.621261</td>\n",
       "      <td>32.244810</td>\n",
       "      <td>38.042032</td>\n",
       "      <td>58.565890</td>\n",
       "      <td>39.621261</td>\n",
       "      <td>72.515926</td>\n",
       "      <td>39.884466</td>\n",
       "      <td>36.982380</td>\n",
       "      <td>39.094852</td>\n",
       "      <td>...</td>\n",
       "      <td>43.299534</td>\n",
       "      <td>64.889521</td>\n",
       "      <td>60.671411</td>\n",
       "      <td>77.523239</td>\n",
       "      <td>31.191755</td>\n",
       "      <td>76.997301</td>\n",
       "      <td>44.962748</td>\n",
       "      <td>73.707387</td>\n",
       "      <td>44.227141</td>\n",
       "      <td>86.871166</td>\n",
       "    </tr>\n",
       "    <tr>\n",
       "      <th>5</th>\n",
       "      <td>69.680748</td>\n",
       "      <td>39.968748</td>\n",
       "      <td>29.183551</td>\n",
       "      <td>37.563364</td>\n",
       "      <td>62.864299</td>\n",
       "      <td>40.169271</td>\n",
       "      <td>76.898243</td>\n",
       "      <td>41.171888</td>\n",
       "      <td>36.401047</td>\n",
       "      <td>39.367626</td>\n",
       "      <td>...</td>\n",
       "      <td>52.468486</td>\n",
       "      <td>58.800000</td>\n",
       "      <td>64.869084</td>\n",
       "      <td>82.471178</td>\n",
       "      <td>31.990430</td>\n",
       "      <td>81.669084</td>\n",
       "      <td>49.308112</td>\n",
       "      <td>78.487626</td>\n",
       "      <td>49.432374</td>\n",
       "      <td>93.898766</td>\n",
       "    </tr>\n",
       "    <tr>\n",
       "      <th>6</th>\n",
       "      <td>64.131866</td>\n",
       "      <td>34.290040</td>\n",
       "      <td>29.578953</td>\n",
       "      <td>33.138040</td>\n",
       "      <td>57.797154</td>\n",
       "      <td>35.154040</td>\n",
       "      <td>69.026577</td>\n",
       "      <td>34.290040</td>\n",
       "      <td>34.761664</td>\n",
       "      <td>33.714040</td>\n",
       "      <td>...</td>\n",
       "      <td>46.855087</td>\n",
       "      <td>53.006174</td>\n",
       "      <td>55.781799</td>\n",
       "      <td>70.570953</td>\n",
       "      <td>33.898309</td>\n",
       "      <td>70.282953</td>\n",
       "      <td>45.127732</td>\n",
       "      <td>65.099597</td>\n",
       "      <td>45.415732</td>\n",
       "      <td>78.057020</td>\n",
       "    </tr>\n",
       "    <tr>\n",
       "      <th>7</th>\n",
       "      <td>67.468893</td>\n",
       "      <td>39.413452</td>\n",
       "      <td>29.355961</td>\n",
       "      <td>39.621717</td>\n",
       "      <td>59.554951</td>\n",
       "      <td>40.454773</td>\n",
       "      <td>75.591612</td>\n",
       "      <td>40.038245</td>\n",
       "      <td>37.478214</td>\n",
       "      <td>40.454773</td>\n",
       "      <td>...</td>\n",
       "      <td>47.891883</td>\n",
       "      <td>56.907961</td>\n",
       "      <td>66.843961</td>\n",
       "      <td>80.025786</td>\n",
       "      <td>30.189204</td>\n",
       "      <td>81.275184</td>\n",
       "      <td>48.100194</td>\n",
       "      <td>71.278602</td>\n",
       "      <td>48.516816</td>\n",
       "      <td>91.063922</td>\n",
       "    </tr>\n",
       "    <tr>\n",
       "      <th>8</th>\n",
       "      <td>65.802880</td>\n",
       "      <td>34.755200</td>\n",
       "      <td>27.475840</td>\n",
       "      <td>36.185600</td>\n",
       "      <td>58.652160</td>\n",
       "      <td>37.329280</td>\n",
       "      <td>72.952960</td>\n",
       "      <td>35.899520</td>\n",
       "      <td>36.342400</td>\n",
       "      <td>37.043200</td>\n",
       "      <td>...</td>\n",
       "      <td>48.069760</td>\n",
       "      <td>55.348480</td>\n",
       "      <td>65.516800</td>\n",
       "      <td>73.368320</td>\n",
       "      <td>31.194240</td>\n",
       "      <td>74.798080</td>\n",
       "      <td>49.213440</td>\n",
       "      <td>67.648000</td>\n",
       "      <td>49.499520</td>\n",
       "      <td>83.093120</td>\n",
       "    </tr>\n",
       "    <tr>\n",
       "      <th>9</th>\n",
       "      <td>64.121231</td>\n",
       "      <td>36.740308</td>\n",
       "      <td>29.468923</td>\n",
       "      <td>38.390154</td>\n",
       "      <td>58.620923</td>\n",
       "      <td>37.840615</td>\n",
       "      <td>71.272000</td>\n",
       "      <td>37.290338</td>\n",
       "      <td>36.344615</td>\n",
       "      <td>39.490462</td>\n",
       "      <td>...</td>\n",
       "      <td>48.995077</td>\n",
       "      <td>54.341538</td>\n",
       "      <td>65.771692</td>\n",
       "      <td>69.192615</td>\n",
       "      <td>32.769231</td>\n",
       "      <td>72.217846</td>\n",
       "      <td>49.270154</td>\n",
       "      <td>67.542769</td>\n",
       "      <td>49.545231</td>\n",
       "      <td>76.893538</td>\n",
       "    </tr>\n",
       "  </tbody>\n",
       "</table>\n",
       "<p>10 rows × 30 columns</p>\n",
       "</div>"
      ],
      "text/plain": [
       "   left_eye_center_x  left_eye_center_y  right_eye_center_x  \\\n",
       "0          66.033564          39.002274           30.227008   \n",
       "1          64.332936          34.970077           29.949277   \n",
       "2          65.057053          34.909642           30.903789   \n",
       "3          65.225739          37.261774           32.023096   \n",
       "4          66.725301          39.621261           32.244810   \n",
       "5          69.680748          39.968748           29.183551   \n",
       "6          64.131866          34.290040           29.578953   \n",
       "7          67.468893          39.413452           29.355961   \n",
       "8          65.802880          34.755200           27.475840   \n",
       "9          64.121231          36.740308           29.468923   \n",
       "\n",
       "   right_eye_center_y  left_eye_inner_corner_x  left_eye_inner_corner_y  \\\n",
       "0           36.421678                59.582075                39.647423   \n",
       "1           33.448715                58.856170                35.274349   \n",
       "2           34.909642                59.412000                36.320968   \n",
       "3           37.261774                60.003339                39.127179   \n",
       "4           38.042032                58.565890                39.621261   \n",
       "5           37.563364                62.864299                40.169271   \n",
       "6           33.138040                57.797154                35.154040   \n",
       "7           39.621717                59.554951                40.454773   \n",
       "8           36.185600                58.652160                37.329280   \n",
       "9           38.390154                58.620923                37.840615   \n",
       "\n",
       "   left_eye_outer_corner_x  left_eye_outer_corner_y  right_eye_inner_corner_x  \\\n",
       "0                73.130346                39.969997                 36.356571   \n",
       "1                70.722723                36.187166                 36.034723   \n",
       "2                70.984421                36.320968                 37.678105   \n",
       "3                72.314713                38.380967                 37.618643   \n",
       "4                72.515926                39.884466                 36.982380   \n",
       "5                76.898243                41.171888                 36.401047   \n",
       "6                69.026577                34.290040                 34.761664   \n",
       "7                75.591612                40.038245                 37.478214   \n",
       "8                72.952960                35.899520                 36.342400   \n",
       "9                71.272000                37.290338                 36.344615   \n",
       "\n",
       "   right_eye_inner_corner_y  ...  nose_tip_x  nose_tip_y  mouth_left_corner_x  \\\n",
       "0                 37.389402  ...   44.420571   57.066803            61.195308   \n",
       "1                 34.361532  ...   48.206298   55.660936            56.421447   \n",
       "2                 36.320968  ...   47.557263   53.538947            60.822947   \n",
       "3                 38.754115  ...   51.885078   54.166539            65.598887   \n",
       "4                 39.094852  ...   43.299534   64.889521            60.671411   \n",
       "5                 39.367626  ...   52.468486   58.800000            64.869084   \n",
       "6                 33.714040  ...   46.855087   53.006174            55.781799   \n",
       "7                 40.454773  ...   47.891883   56.907961            66.843961   \n",
       "8                 37.043200  ...   48.069760   55.348480            65.516800   \n",
       "9                 39.490462  ...   48.995077   54.341538            65.771692   \n",
       "\n",
       "   mouth_left_corner_y  mouth_right_corner_x  mouth_right_corner_y  \\\n",
       "0            79.970165             28.614496             77.388992   \n",
       "1            76.352000             35.122383             76.047660   \n",
       "2            73.014316             33.726316             72.732000   \n",
       "3            72.703722             37.245496             74.195478   \n",
       "4            77.523239             31.191755             76.997301   \n",
       "5            82.471178             31.990430             81.669084   \n",
       "6            70.570953             33.898309             70.282953   \n",
       "7            80.025786             30.189204             81.275184   \n",
       "8            73.368320             31.194240             74.798080   \n",
       "9            69.192615             32.769231             72.217846   \n",
       "\n",
       "   mouth_center_top_lip_x  mouth_center_top_lip_y  mouth_center_bottom_lip_x  \\\n",
       "0               43.312602               72.935459                  43.130707   \n",
       "1               46.684596               70.266553                  45.467915   \n",
       "2               47.274947               70.191789                  47.274947   \n",
       "3               50.303165               70.091687                  51.561183   \n",
       "4               44.962748               73.707387                  44.227141   \n",
       "5               49.308112               78.487626                  49.432374   \n",
       "6               45.127732               65.099597                  45.415732   \n",
       "7               48.100194               71.278602                  48.516816   \n",
       "8               49.213440               67.648000                  49.499520   \n",
       "9               49.270154               67.542769                  49.545231   \n",
       "\n",
       "   mouth_center_bottom_lip_y  \n",
       "0                  84.485774  \n",
       "1                  85.480170  \n",
       "2                  78.659368  \n",
       "3                  78.268383  \n",
       "4                  86.871166  \n",
       "5                  93.898766  \n",
       "6                  78.057020  \n",
       "7                  91.063922  \n",
       "8                  83.093120  \n",
       "9                  76.893538  \n",
       "\n",
       "[10 rows x 30 columns]"
      ]
     },
     "execution_count": 116,
     "metadata": {},
     "output_type": "execute_result"
    }
   ],
   "source": [
    "facial_keypoints[:10]\n"
   ]
  },
  {
   "cell_type": "code",
   "execution_count": 23,
   "metadata": {},
   "outputs": [
    {
     "data": {
      "text/plain": [
       "array([[65.23018868, 34.34264151, 28.80271698, ..., 65.26007547,\n",
       "        46.20679245, 81.69781132],\n",
       "       [66.7376    , 39.8864    , 30.2704    , ..., 72.7792    ,\n",
       "        47.7888    , 94.588     ],\n",
       "       [66.57473684, 37.308     , 30.44526316, ..., 68.35578947,\n",
       "        49.63894737, 83.88      ],\n",
       "       ...,\n",
       "       [66.69073171, 36.84522146, 31.66641951, ...,         nan,\n",
       "        49.46257171, 78.11712   ],\n",
       "       [70.96508235, 39.85366588, 30.54328471, ...,         nan,\n",
       "        50.06518588, 79.58644706],\n",
       "       [66.93831111, 43.42450963, 31.09605926, ...,         nan,\n",
       "        45.90048   , 82.7730963 ]])"
      ]
     },
     "execution_count": 23,
     "metadata": {},
     "output_type": "execute_result"
    }
   ],
   "source": [
    "landmarks = np.array(facial_keypoints)\n",
    "landmarks[10:]"
   ]
  },
  {
   "cell_type": "code",
   "execution_count": 7,
   "metadata": {},
   "outputs": [
    {
     "data": {
      "text/plain": [
       "7049"
      ]
     },
     "execution_count": 7,
     "metadata": {},
     "output_type": "execute_result"
    }
   ],
   "source": [
    "landmarks.shape[0]"
   ]
  },
  {
   "cell_type": "code",
   "execution_count": 24,
   "metadata": {},
   "outputs": [],
   "source": [
    "def isNaN(num):\n",
    "    return num != num\n"
   ]
  },
  {
   "cell_type": "code",
   "execution_count": 25,
   "metadata": {},
   "outputs": [],
   "source": [
    "# Clean dataset by removing incomplete landmarks and images\n",
    "new_images = list()\n",
    "new_landmarks = list()\n",
    "for x in range(landmarks.shape[0]):\n",
    "    incomplete = False\n",
    "    for val in landmarks[x]:\n",
    "        if isNaN(val):\n",
    "            incomplete = True\n",
    "            break\n",
    "    if not incomplete:\n",
    "        new_images.append(images[:,:, x])\n",
    "        new_landmarks.append(landmarks[x])\n"
   ]
  },
  {
   "cell_type": "code",
   "execution_count": 26,
   "metadata": {},
   "outputs": [],
   "source": [
    "new_images = np.array(new_images)"
   ]
  },
  {
   "cell_type": "code",
   "execution_count": 9,
   "metadata": {},
   "outputs": [
    {
     "data": {
      "text/plain": [
       "(2140, 96, 96)"
      ]
     },
     "execution_count": 9,
     "metadata": {},
     "output_type": "execute_result"
    }
   ],
   "source": [
    "new_images.shape"
   ]
  },
  {
   "cell_type": "code",
   "execution_count": 27,
   "metadata": {},
   "outputs": [],
   "source": [
    "def display_image(image):\n",
    "    fig = plt.figure\n",
    "    plt.imshow(image, cmap='gray')\n"
   ]
  },
  {
   "cell_type": "code",
   "execution_count": 28,
   "metadata": {},
   "outputs": [
    {
     "data": {
      "text/plain": [
       "<matplotlib.image.AxesImage at 0x7fb6443d2730>"
      ]
     },
     "execution_count": 28,
     "metadata": {},
     "output_type": "execute_result"
    },
    {
     "data": {
      "image/png": "[encoded data removed]",
      "text/plain": [
       "<Figure size 432x288 with 1 Axes>"
      ]
     },
     "metadata": {
      "needs_background": "light"
     },
     "output_type": "display_data"
    }
   ],
   "source": [
    "\n",
    "image = images[:, :, 0]  # plot the sample\n",
    "image[39, 66] = 255\n",
    "\n",
    "fig = plt.figure\n",
    "plt.imshow(image, cmap='gray')\n",
    "# plt.show()\n"
   ]
  },
  {
   "cell_type": "code",
   "execution_count": 27,
   "metadata": {},
   "outputs": [
    {
     "data": {
      "text/plain": [
       "array([[[238, 238, 238],\n",
       "        [236, 236, 236],\n",
       "        [237, 237, 237],\n",
       "        ...,\n",
       "        [250, 250, 250],\n",
       "        [250, 250, 250],\n",
       "        [250, 250, 250]],\n",
       "\n",
       "       [[235, 235, 235],\n",
       "        [238, 238, 238],\n",
       "        [236, 236, 236],\n",
       "        ...,\n",
       "        [249, 249, 249],\n",
       "        [250, 250, 250],\n",
       "        [251, 251, 251]],\n",
       "\n",
       "       [[237, 237, 237],\n",
       "        [236, 236, 236],\n",
       "        [237, 237, 237],\n",
       "        ...,\n",
       "        [251, 251, 251],\n",
       "        [251, 251, 251],\n",
       "        [250, 250, 250]],\n",
       "\n",
       "       ...,\n",
       "\n",
       "       [[186, 186, 186],\n",
       "        [183, 183, 183],\n",
       "        [181, 181, 181],\n",
       "        ...,\n",
       "        [ 52,  52,  52],\n",
       "        [ 57,  57,  57],\n",
       "        [ 60,  60,  60]],\n",
       "\n",
       "       [[189, 189, 189],\n",
       "        [188, 188, 188],\n",
       "        [207, 207, 207],\n",
       "        ...,\n",
       "        [ 61,  61,  61],\n",
       "        [ 69,  69,  69],\n",
       "        [ 78,  78,  78]],\n",
       "\n",
       "       [[191, 191, 191],\n",
       "        [184, 184, 184],\n",
       "        [184, 184, 184],\n",
       "        ...,\n",
       "        [ 70,  70,  70],\n",
       "        [ 75,  75,  75],\n",
       "        [ 90,  90,  90]]], dtype=uint8)"
      ]
     },
     "execution_count": 27,
     "metadata": {},
     "output_type": "execute_result"
    }
   ],
   "source": [
    "image"
   ]
  },
  {
   "cell_type": "code",
   "execution_count": 29,
   "metadata": {},
   "outputs": [],
   "source": [
    "def plot_facial_landmark(image, landmarks):\n",
    "    Object = lambda **kwargs: type(\"Object\", (), kwargs)\n",
    "    for x in range(0, len(landmarks), 2):\n",
    "        point = [int(landmarks[x]),int(landmarks[x + 1])]\n",
    "        point = Object(x=int(landmarks[x]), y=int(landmarks[x + 1]))\n",
    "        # print(point.x)\n",
    "        image[point.y, point.x] = 255\n",
    "    return image\n"
   ]
  },
  {
   "cell_type": "code",
   "execution_count": 14,
   "metadata": {},
   "outputs": [
    {
     "data": {
      "text/plain": [
       "<matplotlib.image.AxesImage at 0x7fb695319550>"
      ]
     },
     "execution_count": 14,
     "metadata": {},
     "output_type": "execute_result"
    },
    {
     "data": {
      "image/png": "[encoded data removed]",
      "text/plain": [
       "<Figure size 432x288 with 1 Axes>"
      ]
     },
     "metadata": {
      "needs_background": "light"
     },
     "output_type": "display_data"
    }
   ],
   "source": [
    "sample_idx = 1000\n",
    "plotted_image = plot_facial_landmark(images[:, :, sample_idx], landmarks[sample_idx])  # plot the sample\n",
    "# print(plotted_image)\n",
    "fig = plt.figure\n",
    "plt.imshow(plotted_image, cmap='gray')\n"
   ]
  },
  {
   "cell_type": "code",
   "execution_count": 30,
   "metadata": {},
   "outputs": [],
   "source": [
    "np_image = np.array(images)\n",
    "np_facial_keypoints = np.array(facial_keypoints)"
   ]
  },
  {
   "cell_type": "code",
   "execution_count": null,
   "metadata": {},
   "outputs": [],
   "source": []
  },
  {
   "cell_type": "code",
   "execution_count": 61,
   "metadata": {},
   "outputs": [
    {
     "data": {
      "text/plain": [
       "(96, 96, 7049)"
      ]
     },
     "execution_count": 61,
     "metadata": {},
     "output_type": "execute_result"
    }
   ],
   "source": [
    "np_image.shape"
   ]
  },
  {
   "cell_type": "code",
   "execution_count": 31,
   "metadata": {},
   "outputs": [],
   "source": [
    "def train_test_split(train_percentage, images, landmarks):\n",
    "    data_len = images.shape[0]\n",
    "    train_val = int(data_len * (train_percentage / 100))\n",
    "    train_images = [0]*train_val\n",
    "    train_landmarks = [0]*train_val\n",
    "    test_images = [0]* (data_len -train_val)\n",
    "    test_landmarks = [0] * (data_len - train_val)\n",
    "    i = 0\n",
    "    for x in range(data_len):\n",
    "        if x < train_val:\n",
    "            train_images[x] = images[x]\n",
    "            train_landmarks[x] = landmarks[x]\n",
    "        else:\n",
    "            test_images[i] = images[x]\n",
    "            test_landmarks[i] = landmarks[x]\n",
    "            i += 1\n",
    "    return (train_images, train_landmarks), (test_images, test_landmarks)\n"
   ]
  },
  {
   "cell_type": "code",
   "execution_count": 32,
   "metadata": {},
   "outputs": [],
   "source": [
    "#Convert all images to RGB\n",
    "def convert_to_rgb(image):\n",
    "    image = np.array(image, np.uint8)\n",
    "    return cv2.cvtColor(image, cv2.COLOR_GRAY2RGB)"
   ]
  },
  {
   "cell_type": "code",
   "execution_count": 33,
   "metadata": {},
   "outputs": [],
   "source": [
    "#Convert all images to RGB\n",
    "def convert_to_gray_scale(image):\n",
    "    image = np.array(image, np.uint8)\n",
    "    return cv2.cvtColor(image, cv2.COLOR_RGB2GRAY)\n"
   ]
  },
  {
   "cell_type": "code",
   "execution_count": 19,
   "metadata": {},
   "outputs": [],
   "source": [
    "rgb_images = [None]*new_images.shape[0]\n",
    "for x in range(len(new_images)):\n",
    "    rgb_images[x] = convert_to_rgb(new_images[x])\n",
    "\n",
    "new_images = np.array(rgb_images)"
   ]
  },
  {
   "cell_type": "code",
   "execution_count": 37,
   "metadata": {},
   "outputs": [
    {
     "data": {
      "text/plain": [
       "(2140, 96, 96, 3)"
      ]
     },
     "execution_count": 37,
     "metadata": {},
     "output_type": "execute_result"
    }
   ],
   "source": [
    "new_images.shape"
   ]
  },
  {
   "cell_type": "code",
   "execution_count": 34,
   "metadata": {},
   "outputs": [],
   "source": [
    "(train_images, train_landmarks), (test_images, test_landmarks) = train_test_split(90, new_images, new_landmarks)"
   ]
  },
  {
   "cell_type": "code",
   "execution_count": 35,
   "metadata": {},
   "outputs": [],
   "source": [
    "# print(len(train_images))\n",
    "#normalize data\n",
    "x_train = np.array(train_images) / 255\n",
    "y_train = np.array(train_landmarks) / 96\n",
    "x_test = np.array(test_images) / 255\n",
    "y_test = np.array(test_landmarks) / 96\n"
   ]
  },
  {
   "cell_type": "code",
   "execution_count": 54,
   "metadata": {},
   "outputs": [
    {
     "data": {
      "text/plain": [
       "array([[0.68784962, 0.40627368, 0.31486466, ..., 0.75974436, 0.4492782 ,\n",
       "        0.88006015],\n",
       "       [0.67013475, 0.36427163, 0.31197163, ..., 0.73194326, 0.47362411,\n",
       "        0.89041844],\n",
       "       [0.67767763, 0.36364211, 0.32191447, ..., 0.73116447, 0.49244737,\n",
       "        0.81936842],\n",
       "       ...,\n",
       "       [0.67933864, 0.33137406, 0.33964466, ..., 0.78913285, 0.57963354,\n",
       "        0.82364845],\n",
       "       [0.69836304, 0.38485829, 0.2684898 , ..., 0.77737496, 0.55803899,\n",
       "        0.86224849],\n",
       "       [0.68532849, 0.38941204, 0.28370773, ..., 0.8076986 , 0.48316977,\n",
       "        0.8244582 ]])"
      ]
     },
     "execution_count": 54,
     "metadata": {},
     "output_type": "execute_result"
    }
   ],
   "source": [
    "y_train"
   ]
  },
  {
   "cell_type": "code",
   "execution_count": 60,
   "metadata": {},
   "outputs": [
    {
     "data": {
      "text/plain": [
       "array([[0.67498214],\n",
       "       [0.36375   ],\n",
       "       [0.31585714],\n",
       "       [0.37439286],\n",
       "       [0.61911905],\n",
       "       [0.37705357],\n",
       "       [0.74414286],\n",
       "       [0.37705357],\n",
       "       [0.37970238],\n",
       "       [0.382375  ],\n",
       "       [0.2520119 ],\n",
       "       [0.38769048],\n",
       "       [0.61645833],\n",
       "       [0.28660655],\n",
       "       [0.81064881],\n",
       "       [0.31054762],\n",
       "       [0.41694643],\n",
       "       [0.29458929],\n",
       "       [0.1934881 ],\n",
       "       [0.31852976],\n",
       "       [0.51004762],\n",
       "       [0.52070238],\n",
       "       [0.667     ],\n",
       "       [0.71223214],\n",
       "       [0.35310119],\n",
       "       [0.72819643],\n",
       "       [0.52335119],\n",
       "       [0.68829167],\n",
       "       [0.52335119],\n",
       "       [0.76809524]])"
      ]
     },
     "execution_count": 60,
     "metadata": {},
     "output_type": "execute_result"
    }
   ],
   "source": [
    "y_test.shape\n",
    "y_test[428 - 1]\n",
    "y_train[428 - 1]\n",
    "# isNaN(y_test[1404-1][3])\n"
   ]
  },
  {
   "cell_type": "code",
   "execution_count": 36,
   "metadata": {},
   "outputs": [
    {
     "ename": "IndexError",
     "evalue": "index 427 is out of bounds for axis 0 with size 214",
     "output_type": "error",
     "traceback": [
      "\u001b[0;31m---------------------------------------------------------------------------\u001b[0m",
      "\u001b[0;31mIndexError\u001b[0m                                Traceback (most recent call last)",
      "\u001b[1;32m/Users/ernestopoku-kwarteng/Documents/Pycharm Projects/Anaconda/Machine-Learning/HandWriting Detection/bounding-box-predictions/facial-landmark-detection.ipynb Cell 30'\u001b[0m in \u001b[0;36m<module>\u001b[0;34m\u001b[0m\n\u001b[0;32m----> <a href='vscode-notebook-cell:/Users/ernestopoku-kwarteng/Documents/Pycharm%20Projects/Anaconda/Machine-Learning/HandWriting%20Detection/bounding-box-predictions/facial-landmark-detection.ipynb#ch0000029?line=0'>1</a>\u001b[0m im \u001b[39m=\u001b[39m plot_facial_landmark(x_test[\u001b[39m428\u001b[39;49m \u001b[39m-\u001b[39;49m \u001b[39m1\u001b[39;49m], y_test[\u001b[39m428\u001b[39m \u001b[39m-\u001b[39m \u001b[39m1\u001b[39m])\n\u001b[1;32m      <a href='vscode-notebook-cell:/Users/ernestopoku-kwarteng/Documents/Pycharm%20Projects/Anaconda/Machine-Learning/HandWriting%20Detection/bounding-box-predictions/facial-landmark-detection.ipynb#ch0000029?line=1'>2</a>\u001b[0m display_image(im)\n",
      "\u001b[0;31mIndexError\u001b[0m: index 427 is out of bounds for axis 0 with size 214"
     ]
    }
   ],
   "source": [
    "im = plot_facial_landmark(x_test[428 - 1], y_test[428 - 1])\n",
    "display_image(im)"
   ]
  },
  {
   "cell_type": "code",
   "execution_count": null,
   "metadata": {},
   "outputs": [],
   "source": []
  },
  {
   "cell_type": "code",
   "execution_count": 37,
   "metadata": {},
   "outputs": [
    {
     "data": {
      "image/png": "[encoded data removed]",
      "text/plain": [
       "<Figure size 432x288 with 1 Axes>"
      ]
     },
     "metadata": {
      "needs_background": "light"
     },
     "output_type": "display_data"
    }
   ],
   "source": [
    "display_image(test_images[0])\n"
   ]
  },
  {
   "cell_type": "code",
   "execution_count": 4,
   "metadata": {},
   "outputs": [
    {
     "name": "stdout",
     "output_type": "stream",
     "text": [
      "Downloading data from https://storage.googleapis.com/tensorflow/keras-applications/vgg16/vgg16_weights_tf_dim_ordering_tf_kernels_notop.h5\n"
     ]
    },
    {
     "name": "stderr",
     "output_type": "stream",
     "text": [
      "2022-03-12 23:35:46.799322: I tensorflow/core/platform/cpu_feature_guard.cc:151] This TensorFlow binary is optimized with oneAPI Deep Neural Network Library (oneDNN) to use the following CPU instructions in performance-critical operations:  AVX2 FMA\n",
      "To enable them in other operations, rebuild TensorFlow with the appropriate compiler flags.\n"
     ]
    },
    {
     "name": "stdout",
     "output_type": "stream",
     "text": [
      "58892288/58889256 [==============================] - 216s 4us/step\n",
      "58900480/58889256 [==============================] - 216s 4us/step\n"
     ]
    }
   ],
   "source": [
    "## Loading VGG16 model\n",
    "base_model = VGG16(weights=\"imagenet\", include_top=False,\n",
    "                   input_shape=(96, 96, 3))\n",
    "base_model.trainable = False  # Not trainable weights\n",
    "base_model.summary()\n"
   ]
  },
  {
   "cell_type": "code",
   "execution_count": 5,
   "metadata": {},
   "outputs": [
    {
     "name": "stdout",
     "output_type": "stream",
     "text": [
      "Model: \"vgg16\"\n",
      "_________________________________________________________________\n",
      " Layer (type)                Output Shape              Param #   \n",
      "=================================================================\n",
      " input_1 (InputLayer)        [(None, 96, 96, 3)]       0         \n",
      "                                                                 \n",
      " block1_conv1 (Conv2D)       (None, 96, 96, 64)        1792      \n",
      "                                                                 \n",
      " block1_conv2 (Conv2D)       (None, 96, 96, 64)        36928     \n",
      "                                                                 \n",
      " block1_pool (MaxPooling2D)  (None, 48, 48, 64)        0         \n",
      "                                                                 \n",
      " block2_conv1 (Conv2D)       (None, 48, 48, 128)       73856     \n",
      "                                                                 \n",
      " block2_conv2 (Conv2D)       (None, 48, 48, 128)       147584    \n",
      "                                                                 \n",
      " block2_pool (MaxPooling2D)  (None, 24, 24, 128)       0         \n",
      "                                                                 \n",
      " block3_conv1 (Conv2D)       (None, 24, 24, 256)       295168    \n",
      "                                                                 \n",
      " block3_conv2 (Conv2D)       (None, 24, 24, 256)       590080    \n",
      "                                                                 \n",
      " block3_conv3 (Conv2D)       (None, 24, 24, 256)       590080    \n",
      "                                                                 \n",
      " block3_pool (MaxPooling2D)  (None, 12, 12, 256)       0         \n",
      "                                                                 \n",
      " block4_conv1 (Conv2D)       (None, 12, 12, 512)       1180160   \n",
      "                                                                 \n",
      " block4_conv2 (Conv2D)       (None, 12, 12, 512)       2359808   \n",
      "                                                                 \n",
      " block4_conv3 (Conv2D)       (None, 12, 12, 512)       2359808   \n",
      "                                                                 \n",
      " block4_pool (MaxPooling2D)  (None, 6, 6, 512)         0         \n",
      "                                                                 \n",
      " block5_conv1 (Conv2D)       (None, 6, 6, 512)         2359808   \n",
      "                                                                 \n",
      " block5_conv2 (Conv2D)       (None, 6, 6, 512)         2359808   \n",
      "                                                                 \n",
      " block5_conv3 (Conv2D)       (None, 6, 6, 512)         2359808   \n",
      "                                                                 \n",
      " block5_pool (MaxPooling2D)  (None, 3, 3, 512)         0         \n",
      "                                                                 \n",
      "=================================================================\n",
      "Total params: 14,714,688\n",
      "Trainable params: 0\n",
      "Non-trainable params: 14,714,688\n",
      "_________________________________________________________________\n"
     ]
    }
   ],
   "source": [
    "base_model.summary()\n"
   ]
  },
  {
   "cell_type": "code",
   "execution_count": 38,
   "metadata": {},
   "outputs": [],
   "source": [
    "def EncoderMiniBlock(inputs, n_filters=32, dropout_prob=0.3, max_pooling=True):\n",
    "    \"\"\"\n",
    "    This block uses multiple convolution layers, max pool, relu activation to create an architecture for learning. \n",
    "    Dropout can be added for regularization to prevent overfitting. \n",
    "    The block returns the activation values for next layer along with a skip connection which will be used in the decoder\n",
    "    \"\"\"\n",
    "    # Add 2 Conv Layers with relu activation and HeNormal initialization using TensorFlow\n",
    "    # Proper initialization prevents from the problem of exploding and vanishing gradients\n",
    "    # 'Same' padding will pad the input to conv layer such that the output has the same height and width (hence, is not reduced in size)\n",
    "    conv = Conv2D(n_filters,\n",
    "                  3,   # Kernel size\n",
    "                  activation='relu',\n",
    "                  padding='same',\n",
    "                  kernel_initializer='HeNormal')(inputs)\n",
    "    conv = Conv2D(n_filters,\n",
    "                  3,   # Kernel size\n",
    "                  activation='relu',\n",
    "                  padding='same',\n",
    "                  kernel_initializer='HeNormal')(conv)\n",
    "\n",
    "    # Batch Normalization will normalize the output of the last layer based on the batch's mean and standard deviation\n",
    "    conv = BatchNormalization()(conv, training=False)\n",
    "\n",
    "    # In case of overfitting, dropout will regularize the loss and gradient computation to shrink the influence of weights on output\n",
    "    if dropout_prob > 0:\n",
    "        conv = tf.keras.layers.Dropout(dropout_prob)(conv)\n",
    "\n",
    "    # Pooling reduces the size of the image while keeping the number of channels same\n",
    "    # Pooling has been kept as optional as the last encoder layer does not use pooling (hence, makes the encoder block flexible to use)\n",
    "    # Below, Max pooling considers the maximum of the input slice for output computation and uses stride of 2 to traverse across input image\n",
    "    if max_pooling:\n",
    "        next_layer = tf.keras.layers.MaxPooling2D(pool_size=(2, 2))(conv)\n",
    "    else:\n",
    "        next_layer = conv\n",
    "\n",
    "    # skip connection (without max pooling) will be input to the decoder layer to prevent information loss during transpose convolutions\n",
    "    skip_connection = conv\n",
    "\n",
    "    return next_layer, skip_connection\n"
   ]
  },
  {
   "cell_type": "code",
   "execution_count": 39,
   "metadata": {},
   "outputs": [
    {
     "name": "stderr",
     "output_type": "stream",
     "text": [
      "2022-04-30 22:12:44.097595: I tensorflow/core/platform/cpu_feature_guard.cc:151] This TensorFlow binary is optimized with oneAPI Deep Neural Network Library (oneDNN) to use the following CPU instructions in performance-critical operations:  AVX2 FMA\n",
      "To enable them in other operations, rebuild TensorFlow with the appropriate compiler flags.\n"
     ]
    },
    {
     "name": "stdout",
     "output_type": "stream",
     "text": [
      "Model: \"model\"\n",
      "_________________________________________________________________\n",
      " Layer (type)                Output Shape              Param #   \n",
      "=================================================================\n",
      " input_1 (InputLayer)        [(None, 96, 96, 1)]       0         \n",
      "                                                                 \n",
      " conv2d (Conv2D)             (None, 96, 96, 32)        320       \n",
      "                                                                 \n",
      " conv2d_1 (Conv2D)           (None, 96, 96, 32)        9248      \n",
      "                                                                 \n",
      " batch_normalization (BatchN  (None, 96, 96, 32)       128       \n",
      " ormalization)                                                   \n",
      "                                                                 \n",
      " max_pooling2d (MaxPooling2D  (None, 48, 48, 32)       0         \n",
      " )                                                               \n",
      "                                                                 \n",
      " conv2d_2 (Conv2D)           (None, 48, 48, 64)        18496     \n",
      "                                                                 \n",
      " conv2d_3 (Conv2D)           (None, 48, 48, 64)        36928     \n",
      "                                                                 \n",
      " batch_normalization_1 (Batc  (None, 48, 48, 64)       256       \n",
      " hNormalization)                                                 \n",
      "                                                                 \n",
      " max_pooling2d_1 (MaxPooling  (None, 24, 24, 64)       0         \n",
      " 2D)                                                             \n",
      "                                                                 \n",
      " conv2d_4 (Conv2D)           (None, 24, 24, 128)       73856     \n",
      "                                                                 \n",
      " conv2d_5 (Conv2D)           (None, 24, 24, 128)       147584    \n",
      "                                                                 \n",
      " batch_normalization_2 (Batc  (None, 24, 24, 128)      512       \n",
      " hNormalization)                                                 \n",
      "                                                                 \n",
      " max_pooling2d_2 (MaxPooling  (None, 12, 12, 128)      0         \n",
      " 2D)                                                             \n",
      "                                                                 \n",
      " conv2d_6 (Conv2D)           (None, 12, 12, 256)       295168    \n",
      "                                                                 \n",
      " conv2d_7 (Conv2D)           (None, 12, 12, 256)       590080    \n",
      "                                                                 \n",
      " batch_normalization_3 (Batc  (None, 12, 12, 256)      1024      \n",
      " hNormalization)                                                 \n",
      "                                                                 \n",
      " dropout (Dropout)           (None, 12, 12, 256)       0         \n",
      "                                                                 \n",
      " max_pooling2d_3 (MaxPooling  (None, 6, 6, 256)        0         \n",
      " 2D)                                                             \n",
      "                                                                 \n",
      " conv2d_8 (Conv2D)           (None, 6, 6, 512)         1180160   \n",
      "                                                                 \n",
      " conv2d_9 (Conv2D)           (None, 6, 6, 512)         2359808   \n",
      "                                                                 \n",
      " batch_normalization_4 (Batc  (None, 6, 6, 512)        2048      \n",
      " hNormalization)                                                 \n",
      "                                                                 \n",
      " dropout_1 (Dropout)         (None, 6, 6, 512)         0         \n",
      "                                                                 \n",
      " flatten (Flatten)           (None, 18432)             0         \n",
      "                                                                 \n",
      " dense (Dense)               (None, 120)               2211960   \n",
      "                                                                 \n",
      " dense_1 (Dense)             (None, 60)                7260      \n",
      "                                                                 \n",
      " dense_2 (Dense)             (None, 30)                1830      \n",
      "                                                                 \n",
      "=================================================================\n",
      "Total params: 6,936,666\n",
      "Trainable params: 6,934,682\n",
      "Non-trainable params: 1,984\n",
      "_________________________________________________________________\n"
     ]
    }
   ],
   "source": [
    "input_size = (96, 96, 1)\n",
    "n_filters = 32\n",
    "n_classes = 30\n",
    "# Input size represent the size of 1 image (the size used for pre-processing)\n",
    "inputs = Input(input_size)\n",
    "\n",
    "# Encoder includes multiple convolutional mini blocks with different maxpooling, dropout and filter parameters\n",
    "# Observe that the filters are increasing as we go deeper into the network which will increasse the # channels of the image\n",
    "cblock1 = EncoderMiniBlock(inputs, n_filters, dropout_prob=0, max_pooling=True)\n",
    "cblock2 = EncoderMiniBlock(\n",
    "    cblock1[0], n_filters*2, dropout_prob=0, max_pooling=True)\n",
    "cblock3 = EncoderMiniBlock(\n",
    "    cblock2[0], n_filters*4, dropout_prob=0, max_pooling=True)\n",
    "cblock4 = EncoderMiniBlock(\n",
    "    cblock3[0], n_filters*8, dropout_prob=0.3, max_pooling=True)\n",
    "cblock5 = EncoderMiniBlock(\n",
    "    cblock4[0], n_filters*16, dropout_prob=0.3, max_pooling=False)\n",
    "\n",
    "bb = Flatten()(cblock5[0])\n",
    "bb = Dense(120, activation='relu')(bb)\n",
    "bb = Dense(60, activation='relu')(bb)\n",
    "bb = Dense(30, activation='relu')(bb)\n",
    "# custom_model = Flatten()\n",
    "# custom_model = Dense(120, activation='relu')(custom_model)\n",
    "# custom_model = Dense(60, activation='relu')(custom_model)\n",
    "# custom_model = Dense(30, activation='sigmoid')(custom_model)\n",
    "# conv_1 = Conv2D(256, kernel_size=(1, 1), strides=2, activation='relu')\n",
    "# batch_1 =BatchNormalization()\n",
    "# # convolutional layer\n",
    "# conv_2 = Conv2D(128, kernel_size=(3, 3), strides=1, activation='relu')\n",
    "# conv_3 = Conv2D(128, kernel_size=(3, 3), strides=1, activation='relu')\n",
    "# flatten_layer = Flatten()\n",
    "# dense_layer_1 = Dense(120, activation='relu')\n",
    "# dense_layer_2 = Dense(60, activation='relu')\n",
    "# prediction_layer = Dense(30, activation='sigmoid')\n",
    "# # model = Sequential([base_model,custom_model])\n",
    "# model = Sequential([\n",
    "#     base_model,\n",
    "#     conv_1,\n",
    "#     flatten_layer,\n",
    "#     dense_layer_1,\n",
    "#     dense_layer_2,\n",
    "#     prediction_layer\n",
    "# ])\n",
    "# compiling the sequential model\n",
    "# Define the model\n",
    "model = tf.keras.Model(inputs=inputs, outputs=bb)\n",
    "model.compile(loss='mse', metrics=['accuracy'],\n",
    "              optimizer='adam')\n",
    "model.summary()\n"
   ]
  },
  {
   "cell_type": "code",
   "execution_count": 40,
   "metadata": {},
   "outputs": [
    {
     "name": "stdout",
     "output_type": "stream",
     "text": [
      "Epoch 1/25\n",
      "20/20 [==============================] - 42s 2s/step - loss: 0.3474 - accuracy: 0.0265 - val_loss: 0.1596 - val_accuracy: 0.0000e+00\n",
      "Epoch 2/25\n",
      "20/20 [==============================] - 41s 2s/step - loss: 0.1368 - accuracy: 0.1137 - val_loss: 0.1378 - val_accuracy: 0.2056\n",
      "Epoch 3/25\n",
      "20/20 [==============================] - 41s 2s/step - loss: 0.1174 - accuracy: 0.3479 - val_loss: 0.1235 - val_accuracy: 0.3505\n",
      "Epoch 4/25\n",
      "20/20 [==============================] - 44s 2s/step - loss: 0.1142 - accuracy: 0.6817 - val_loss: 0.1206 - val_accuracy: 0.3832\n",
      "Epoch 5/25\n",
      "20/20 [==============================] - 49s 2s/step - loss: 0.1141 - accuracy: 0.7191 - val_loss: 0.1216 - val_accuracy: 0.3832\n",
      "Epoch 6/25\n",
      "20/20 [==============================] - 46s 2s/step - loss: 0.1140 - accuracy: 0.7310 - val_loss: 0.1209 - val_accuracy: 0.3832\n",
      "Epoch 7/25\n",
      "20/20 [==============================] - 46s 2s/step - loss: 0.1140 - accuracy: 0.7279 - val_loss: 0.1208 - val_accuracy: 0.3832\n",
      "Epoch 8/25\n",
      "20/20 [==============================] - 48s 2s/step - loss: 0.1140 - accuracy: 0.7300 - val_loss: 0.1200 - val_accuracy: 0.3832\n",
      "Epoch 9/25\n",
      "20/20 [==============================] - 49s 2s/step - loss: 0.1140 - accuracy: 0.7279 - val_loss: 0.1203 - val_accuracy: 0.3832\n",
      "Epoch 10/25\n",
      "20/20 [==============================] - 51s 3s/step - loss: 0.1140 - accuracy: 0.7336 - val_loss: 0.1208 - val_accuracy: 0.3832\n",
      "Epoch 11/25\n",
      "20/20 [==============================] - 52s 3s/step - loss: 0.1140 - accuracy: 0.7352 - val_loss: 0.1189 - val_accuracy: 0.3832\n",
      "Epoch 12/25\n",
      "20/20 [==============================] - 51s 3s/step - loss: 0.1140 - accuracy: 0.7388 - val_loss: 0.1201 - val_accuracy: 0.3832\n",
      "Epoch 13/25\n",
      "20/20 [==============================] - 51s 3s/step - loss: 0.1139 - accuracy: 0.7336 - val_loss: 0.1205 - val_accuracy: 0.3832\n",
      "Epoch 14/25\n",
      "20/20 [==============================] - 54s 3s/step - loss: 0.1140 - accuracy: 0.7394 - val_loss: 0.1184 - val_accuracy: 0.3832\n",
      "Epoch 15/25\n",
      "20/20 [==============================] - 52s 3s/step - loss: 0.1140 - accuracy: 0.7388 - val_loss: 0.1196 - val_accuracy: 0.3832\n",
      "Epoch 16/25\n",
      "20/20 [==============================] - 53s 3s/step - loss: 0.1139 - accuracy: 0.7399 - val_loss: 0.1186 - val_accuracy: 0.3832\n",
      "Epoch 17/25\n",
      "20/20 [==============================] - 56s 3s/step - loss: 0.1139 - accuracy: 0.7378 - val_loss: 0.1192 - val_accuracy: 0.3832\n",
      "Epoch 18/25\n",
      "20/20 [==============================] - 53s 3s/step - loss: 0.1139 - accuracy: 0.7404 - val_loss: 0.1185 - val_accuracy: 0.3832\n",
      "Epoch 19/25\n",
      "20/20 [==============================] - 53s 3s/step - loss: 0.1139 - accuracy: 0.7404 - val_loss: 0.1184 - val_accuracy: 0.3832\n",
      "Epoch 20/25\n",
      "20/20 [==============================] - 55s 3s/step - loss: 0.1139 - accuracy: 0.7383 - val_loss: 0.1185 - val_accuracy: 0.3832\n",
      "Epoch 21/25\n",
      "20/20 [==============================] - 55s 3s/step - loss: 0.1139 - accuracy: 0.7404 - val_loss: 0.1184 - val_accuracy: 0.3832\n",
      "Epoch 22/25\n",
      "20/20 [==============================] - 54s 3s/step - loss: 0.1139 - accuracy: 0.7399 - val_loss: 0.1182 - val_accuracy: 0.3832\n",
      "Epoch 23/25\n",
      "20/20 [==============================] - 53s 3s/step - loss: 0.1139 - accuracy: 0.7394 - val_loss: 0.1183 - val_accuracy: 0.3738\n",
      "Epoch 24/25\n",
      "20/20 [==============================] - 48s 2s/step - loss: 0.1138 - accuracy: 0.7378 - val_loss: 0.1186 - val_accuracy: 0.3879\n",
      "Epoch 25/25\n",
      "20/20 [==============================] - 48s 2s/step - loss: 0.1139 - accuracy: 0.7404 - val_loss: 0.1182 - val_accuracy: 0.3832\n"
     ]
    },
    {
     "data": {
      "text/plain": [
       "<keras.callbacks.History at 0x7fb64443d0a0>"
      ]
     },
     "execution_count": 40,
     "metadata": {},
     "output_type": "execute_result"
    }
   ],
   "source": [
    "model.fit(x_train, y_train, epochs=25, batch_size=100, validation_data=(x_test, y_test))\n"
   ]
  },
  {
   "cell_type": "code",
   "execution_count": 45,
   "metadata": {},
   "outputs": [],
   "source": [
    "from skimage.io import imread\n",
    "im = imread(os.path.join('data' ,'test_face.jpg'))"
   ]
  },
  {
   "cell_type": "code",
   "execution_count": 42,
   "metadata": {},
   "outputs": [],
   "source": [
    "im = convert_to_rgb(im)"
   ]
  },
  {
   "cell_type": "code",
   "execution_count": 46,
   "metadata": {},
   "outputs": [
    {
     "data": {
      "image/png": "[encoded data removed]",
      "text/plain": [
       "<Figure size 432x288 with 1 Axes>"
      ]
     },
     "metadata": {
      "needs_background": "light"
     },
     "output_type": "display_data"
    }
   ],
   "source": [
    "display_image(im)"
   ]
  },
  {
   "cell_type": "code",
   "execution_count": 47,
   "metadata": {},
   "outputs": [
    {
     "name": "stdout",
     "output_type": "stream",
     "text": [
      "[[0.5987598  0.         0.         0.36337936 0.         0.3584176\n",
      "  0.         0.34683314 0.         0.         0.22193196 0.\n",
      "  0.         0.         0.7460752  0.         0.374542   0.\n",
      "  0.15018325 0.         0.4502951  0.5154489  0.5971059  0.7088108\n",
      "  0.         0.         0.42815048 0.67544    0.         0.7688734 ]]\n"
     ]
    }
   ],
   "source": [
    "test_image = im/255 #x_test[428 - 400].copy()  # x_test[100].copy()\n",
    "test_output = model.predict(np.array([test_image]), verbose=0)\n",
    "print(test_output)\n"
   ]
  },
  {
   "cell_type": "code",
   "execution_count": 115,
   "metadata": {},
   "outputs": [
    {
     "name": "stdout",
     "output_type": "stream",
     "text": [
      "[[0.70135945 0.38226262 0.32155746 0.387382   0.6200256  0.3913921\n",
      "  0.75558436 0.40546092 0.37003466 0.37464023 0.24560463 0.40033296\n",
      "  0.62734973 0.29459646 0.81268764 0.32316613 0.4106264  0.31506875\n",
      "  0.16331062 0.31884137 0.5360964  0.59084415 0.63876647 0.8296844\n",
      "  0.3577819  0.83528394 0.5198546  0.8053267  0.51379555 0.86616504]]\n"
     ]
    }
   ],
   "source": [
    "sample = 101\n",
    "test_image = x_train[sample].copy()  # x_test[100].copy()\n",
    "# rgb_test_img = convert_to_rgb(test_image) # x_test[]\n",
    "test_output = model.predict(np.array([test_image]), verbose=0)\n",
    "print(test_output)\n"
   ]
  },
  {
   "cell_type": "code",
   "execution_count": 122,
   "metadata": {},
   "outputs": [
    {
     "data": {
      "text/plain": [
       "array([[61.947544, 36.71978 , 35.40818 , 41.941006, 54.507282, 39.800293,\n",
       "        67.75356 , 35.342903, 36.001934, 37.7616  , 28.625444, 42.164146,\n",
       "        58.291763, 28.078018, 70.47866 , 30.722134, 39.20042 , 32.85132 ,\n",
       "        20.580425, 39.153023, 49.23571 , 59.42768 , 61.944275, 71.296295,\n",
       "        40.55945 , 73.07842 , 53.491848, 73.18001 , 49.90619 , 75.59566 ]],\n",
       "      dtype=float32)"
      ]
     },
     "execution_count": 122,
     "metadata": {},
     "output_type": "execute_result"
    }
   ],
   "source": [
    "test_image = test_image * 255\n",
    "test_output = test_output * 96\n",
    "test_output"
   ]
  },
  {
   "cell_type": "code",
   "execution_count": 362,
   "metadata": {},
   "outputs": [
    {
     "data": {
      "text/plain": [
       "array([[59.003185, 17.998774, 41.729874, 22.37576 , 33.170273, 25.223665,\n",
       "        41.27445 , 32.275845, 17.83748 , 15.789961, 16.824432, 49.331875,\n",
       "        62.890816, 20.791447, 82.864044, 20.138113, 31.757568, 27.980078,\n",
       "        21.720055, 35.33327 , 60.269737, 38.65662 , 66.32322 , 56.9824  ,\n",
       "        39.15485 , 85.0534  , 54.10695 , 47.030872, 44.381382, 54.00466 ]],\n",
       "      dtype=float32)"
      ]
     },
     "execution_count": 362,
     "metadata": {},
     "output_type": "execute_result"
    }
   ],
   "source": [
    "test_output[0][0]\n"
   ]
  },
  {
   "cell_type": "code",
   "execution_count": 48,
   "metadata": {},
   "outputs": [
    {
     "ename": "error",
     "evalue": "OpenCV(4.5.5) /Users/runner/work/opencv-python/opencv-python/opencv/modules/imgproc/src/color.simd_helpers.hpp:92: error: (-2:Unspecified error) in function 'cv::impl::(anonymous namespace)::CvtHelper<cv::impl::(anonymous namespace)::Set<3, 4, -1>, cv::impl::(anonymous namespace)::Set<1, -1, -1>, cv::impl::(anonymous namespace)::Set<0, 2, 5>, cv::impl::(anonymous namespace)::NONE>::CvtHelper(cv::InputArray, cv::OutputArray, int) [VScn = cv::impl::(anonymous namespace)::Set<3, 4, -1>, VDcn = cv::impl::(anonymous namespace)::Set<1, -1, -1>, VDepth = cv::impl::(anonymous namespace)::Set<0, 2, 5>, sizePolicy = cv::impl::(anonymous namespace)::NONE]'\n> Invalid number of channels in input image:\n>     'VScn::contains(scn)'\n> where\n>     'scn' is 1\n",
     "output_type": "error",
     "traceback": [
      "\u001b[0;31m---------------------------------------------------------------------------\u001b[0m",
      "\u001b[0;31merror\u001b[0m                                     Traceback (most recent call last)",
      "\u001b[1;32m/Users/ernestopoku-kwarteng/Documents/Pycharm Projects/Anaconda/Machine-Learning/HandWriting Detection/bounding-box-predictions/facial-landmark-detection.ipynb Cell 45'\u001b[0m in \u001b[0;36m<module>\u001b[0;34m\u001b[0m\n\u001b[1;32m      <a href='vscode-notebook-cell:/Users/ernestopoku-kwarteng/Documents/Pycharm%20Projects/Anaconda/Machine-Learning/HandWriting%20Detection/bounding-box-predictions/facial-landmark-detection.ipynb#ch0000045?line=0'>1</a>\u001b[0m \u001b[39m#plot original\u001b[39;00m\n\u001b[0;32m----> <a href='vscode-notebook-cell:/Users/ernestopoku-kwarteng/Documents/Pycharm%20Projects/Anaconda/Machine-Learning/HandWriting%20Detection/bounding-box-predictions/facial-landmark-detection.ipynb#ch0000045?line=1'>2</a>\u001b[0m test_image \u001b[39m=\u001b[39m convert_to_gray_scale(test_image)\n\u001b[1;32m      <a href='vscode-notebook-cell:/Users/ernestopoku-kwarteng/Documents/Pycharm%20Projects/Anaconda/Machine-Learning/HandWriting%20Detection/bounding-box-predictions/facial-landmark-detection.ipynb#ch0000045?line=2'>3</a>\u001b[0m original_plotted_image \u001b[39m=\u001b[39m plot_facial_landmark(test_image\u001b[39m.\u001b[39mcopy(), y_train[sample] \u001b[39m*\u001b[39m \u001b[39m96\u001b[39m)\n\u001b[1;32m      <a href='vscode-notebook-cell:/Users/ernestopoku-kwarteng/Documents/Pycharm%20Projects/Anaconda/Machine-Learning/HandWriting%20Detection/bounding-box-predictions/facial-landmark-detection.ipynb#ch0000045?line=3'>4</a>\u001b[0m display_image(original_plotted_image)\n",
      "\u001b[1;32m/Users/ernestopoku-kwarteng/Documents/Pycharm Projects/Anaconda/Machine-Learning/HandWriting Detection/bounding-box-predictions/facial-landmark-detection.ipynb Cell 23'\u001b[0m in \u001b[0;36mconvert_to_gray_scale\u001b[0;34m(image)\u001b[0m\n\u001b[1;32m      <a href='vscode-notebook-cell:/Users/ernestopoku-kwarteng/Documents/Pycharm%20Projects/Anaconda/Machine-Learning/HandWriting%20Detection/bounding-box-predictions/facial-landmark-detection.ipynb#ch0000022?line=1'>2</a>\u001b[0m \u001b[39mdef\u001b[39;00m \u001b[39mconvert_to_gray_scale\u001b[39m(image):\n\u001b[1;32m      <a href='vscode-notebook-cell:/Users/ernestopoku-kwarteng/Documents/Pycharm%20Projects/Anaconda/Machine-Learning/HandWriting%20Detection/bounding-box-predictions/facial-landmark-detection.ipynb#ch0000022?line=2'>3</a>\u001b[0m     image \u001b[39m=\u001b[39m np\u001b[39m.\u001b[39marray(image, np\u001b[39m.\u001b[39muint8)\n\u001b[0;32m----> <a href='vscode-notebook-cell:/Users/ernestopoku-kwarteng/Documents/Pycharm%20Projects/Anaconda/Machine-Learning/HandWriting%20Detection/bounding-box-predictions/facial-landmark-detection.ipynb#ch0000022?line=3'>4</a>\u001b[0m     \u001b[39mreturn\u001b[39;00m cv2\u001b[39m.\u001b[39;49mcvtColor(image, cv2\u001b[39m.\u001b[39;49mCOLOR_RGB2GRAY)\n",
      "\u001b[0;31merror\u001b[0m: OpenCV(4.5.5) /Users/runner/work/opencv-python/opencv-python/opencv/modules/imgproc/src/color.simd_helpers.hpp:92: error: (-2:Unspecified error) in function 'cv::impl::(anonymous namespace)::CvtHelper<cv::impl::(anonymous namespace)::Set<3, 4, -1>, cv::impl::(anonymous namespace)::Set<1, -1, -1>, cv::impl::(anonymous namespace)::Set<0, 2, 5>, cv::impl::(anonymous namespace)::NONE>::CvtHelper(cv::InputArray, cv::OutputArray, int) [VScn = cv::impl::(anonymous namespace)::Set<3, 4, -1>, VDcn = cv::impl::(anonymous namespace)::Set<1, -1, -1>, VDepth = cv::impl::(anonymous namespace)::Set<0, 2, 5>, sizePolicy = cv::impl::(anonymous namespace)::NONE]'\n> Invalid number of channels in input image:\n>     'VScn::contains(scn)'\n> where\n>     'scn' is 1\n"
     ]
    }
   ],
   "source": [
    "#plot original\n",
    "test_image = convert_to_gray_scale(test_image)\n",
    "original_plotted_image = plot_facial_landmark(test_image.copy(), y_train[sample] * 96)\n",
    "display_image(original_plotted_image)\n"
   ]
  },
  {
   "cell_type": "code",
   "execution_count": 50,
   "metadata": {},
   "outputs": [
    {
     "ename": "IndexError",
     "evalue": "index 152 is out of bounds for axis 1 with size 96",
     "output_type": "error",
     "traceback": [
      "\u001b[0;31m---------------------------------------------------------------------------\u001b[0m",
      "\u001b[0;31mIndexError\u001b[0m                                Traceback (most recent call last)",
      "\u001b[1;32m/Users/ernestopoku-kwarteng/Documents/Pycharm Projects/Anaconda/Machine-Learning/HandWriting Detection/bounding-box-predictions/facial-landmark-detection.ipynb Cell 46'\u001b[0m in \u001b[0;36m<module>\u001b[0;34m\u001b[0m\n\u001b[1;32m      <a href='vscode-notebook-cell:/Users/ernestopoku-kwarteng/Documents/Pycharm%20Projects/Anaconda/Machine-Learning/HandWriting%20Detection/bounding-box-predictions/facial-landmark-detection.ipynb#ch0000046?line=0'>1</a>\u001b[0m \u001b[39m#plot predicted\u001b[39;00m\n\u001b[1;32m      <a href='vscode-notebook-cell:/Users/ernestopoku-kwarteng/Documents/Pycharm%20Projects/Anaconda/Machine-Learning/HandWriting%20Detection/bounding-box-predictions/facial-landmark-detection.ipynb#ch0000046?line=1'>2</a>\u001b[0m \u001b[39m# test_image = convert_to_gray_scale(test_image)\u001b[39;00m\n\u001b[0;32m----> <a href='vscode-notebook-cell:/Users/ernestopoku-kwarteng/Documents/Pycharm%20Projects/Anaconda/Machine-Learning/HandWriting%20Detection/bounding-box-predictions/facial-landmark-detection.ipynb#ch0000046?line=2'>3</a>\u001b[0m test_plotted_image \u001b[39m=\u001b[39m plot_facial_landmark(test_image\u001b[39m.\u001b[39;49mcopy(), test_output[\u001b[39m0\u001b[39;49m] \u001b[39m*\u001b[39;49m \u001b[39m255\u001b[39;49m)\n\u001b[1;32m      <a href='vscode-notebook-cell:/Users/ernestopoku-kwarteng/Documents/Pycharm%20Projects/Anaconda/Machine-Learning/HandWriting%20Detection/bounding-box-predictions/facial-landmark-detection.ipynb#ch0000046?line=3'>4</a>\u001b[0m display_image(test_plotted_image)\n",
      "\u001b[1;32m/Users/ernestopoku-kwarteng/Documents/Pycharm Projects/Anaconda/Machine-Learning/HandWriting Detection/bounding-box-predictions/facial-landmark-detection.ipynb Cell 16'\u001b[0m in \u001b[0;36mplot_facial_landmark\u001b[0;34m(image, landmarks)\u001b[0m\n\u001b[1;32m      <a href='vscode-notebook-cell:/Users/ernestopoku-kwarteng/Documents/Pycharm%20Projects/Anaconda/Machine-Learning/HandWriting%20Detection/bounding-box-predictions/facial-landmark-detection.ipynb#ch0000015?line=4'>5</a>\u001b[0m     point \u001b[39m=\u001b[39m Object(x\u001b[39m=\u001b[39m\u001b[39mint\u001b[39m(landmarks[x]), y\u001b[39m=\u001b[39m\u001b[39mint\u001b[39m(landmarks[x \u001b[39m+\u001b[39m \u001b[39m1\u001b[39m]))\n\u001b[1;32m      <a href='vscode-notebook-cell:/Users/ernestopoku-kwarteng/Documents/Pycharm%20Projects/Anaconda/Machine-Learning/HandWriting%20Detection/bounding-box-predictions/facial-landmark-detection.ipynb#ch0000015?line=5'>6</a>\u001b[0m     \u001b[39m# print(point.x)\u001b[39;00m\n\u001b[0;32m----> <a href='vscode-notebook-cell:/Users/ernestopoku-kwarteng/Documents/Pycharm%20Projects/Anaconda/Machine-Learning/HandWriting%20Detection/bounding-box-predictions/facial-landmark-detection.ipynb#ch0000015?line=6'>7</a>\u001b[0m     image[point\u001b[39m.\u001b[39my, point\u001b[39m.\u001b[39mx] \u001b[39m=\u001b[39m \u001b[39m255\u001b[39m\n\u001b[1;32m      <a href='vscode-notebook-cell:/Users/ernestopoku-kwarteng/Documents/Pycharm%20Projects/Anaconda/Machine-Learning/HandWriting%20Detection/bounding-box-predictions/facial-landmark-detection.ipynb#ch0000015?line=7'>8</a>\u001b[0m \u001b[39mreturn\u001b[39;00m image\n",
      "\u001b[0;31mIndexError\u001b[0m: index 152 is out of bounds for axis 1 with size 96"
     ]
    }
   ],
   "source": [
    "#plot predicted\n",
    "# test_image = convert_to_gray_scale(test_image)\n",
    "test_plotted_image = plot_facial_landmark(test_image.copy(), test_output[0])\n",
    "display_image(test_plotted_image)"
   ]
  },
  {
   "cell_type": "code",
   "execution_count": 70,
   "metadata": {},
   "outputs": [
    {
     "data": {
      "text/plain": [
       "array([[0, 0, 0, ..., 0, 0, 0],\n",
       "       [0, 0, 0, ..., 0, 0, 0],\n",
       "       [0, 0, 0, ..., 0, 0, 0],\n",
       "       ...,\n",
       "       [0, 0, 0, ..., 0, 0, 0],\n",
       "       [0, 0, 0, ..., 0, 0, 0],\n",
       "       [0, 0, 0, ..., 0, 0, 0]], dtype=uint8)"
      ]
     },
     "execution_count": 70,
     "metadata": {},
     "output_type": "execute_result"
    }
   ],
   "source": [
    "test_image"
   ]
  },
  {
   "cell_type": "code",
   "execution_count": 7,
   "metadata": {},
   "outputs": [],
   "source": [
    "import cv2\n",
    "x = 77\n",
    "y = 55\n",
    "h = 191\n",
    "w = 213\n",
    "image = cv2.imread('data/actors/0_61_benicio_del_toro.jpg')\n",
    "image = np.array(image, np.uint8)\n",
    "im = resize(image, (140, 54), preserve_range=True)\n",
    "\n"
   ]
  },
  {
   "cell_type": "code",
   "execution_count": 6,
   "metadata": {},
   "outputs": [
    {
     "data": {
      "image/png": "[encoded data removed]",
      "text/plain": [
       "<Figure size 432x288 with 1 Axes>"
      ]
     },
     "metadata": {
      "needs_background": "light"
     },
     "output_type": "display_data"
    }
   ],
   "source": [
    "display_image(im)"
   ]
  },
  {
   "cell_type": "code",
   "execution_count": null,
   "metadata": {},
   "outputs": [],
   "source": [
    "cv2.rectangle(image, (x, y), (w, h), (0, 0, 255), 2)\n",
    "# show thresh and result\n",
    "cv2.imshow(\"bounding_box\", image)\n",
    "cv2.waitKey(30000)\n",
    "cv2.destroyAllWindows()\n",
    "# display_image(image)\n"
   ]
  }
 ],
 "metadata": {
  "interpreter": {
   "hash": "b4ae1a2dfccc258e213990e4588dc174deff5b5e9cb9d51b0f9c360619f30fdc"
  },
  "kernelspec": {
   "display_name": "ml-env",
   "language": "python",
   "name": "ml-env"
  },
  "language_info": {
   "codemirror_mode": {
    "name": "ipython",
    "version": 3
   },
   "file_extension": ".py",
   "mimetype": "text/x-python",
   "name": "python",
   "nbconvert_exporter": "python",
   "pygments_lexer": "ipython3",
   "version": "3.8.8"
  }
 },
 "nbformat": 4,
 "nbformat_minor": 2
}
