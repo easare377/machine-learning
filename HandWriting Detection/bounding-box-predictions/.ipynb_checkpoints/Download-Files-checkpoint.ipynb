{
 "cells": [
  {
   "cell_type": "code",
   "execution_count": 1,
   "metadata": {},
   "outputs": [],
   "source": [
    "import requests\n",
    "import os\n",
    "from urllib.parse import urlparse"
   ]
  },
  {
   "cell_type": "code",
   "execution_count": 6,
   "metadata": {},
   "outputs": [],
   "source": [
    "face_scrub_actors_data = os.path.join('data/faceScrub', 'facescrub_actors.txt')\n",
    "face_scrub_actress_data = os.path.join('data/faceScrub', 'facescrub_actresses.txt')\n",
    "actors_dir = os.path.join('data', 'actors')\n",
    "actress_dir = os.path.join('data', 'actress')"
   ]
  },
  {
   "cell_type": "code",
   "execution_count": 4,
   "metadata": {},
   "outputs": [],
   "source": [
    "class Rectangle:\n",
    "    def __init__(self, x, y, width, height):\n",
    "        self.x = x\n",
    "        self.y = y\n",
    "        self.width = width\n",
    "        self.height = height\n",
    "    "
   ]
  },
  {
   "cell_type": "code",
   "execution_count": 5,
   "metadata": {},
   "outputs": [],
   "source": [
    "class FaceData:\n",
    "    def __init__(self, name, image_id, face_id, url, rect):\n",
    "        self.name = name\n",
    "        self.image_id = image_id\n",
    "        self.face_id = face_id\n",
    "        self.url = url\n",
    "        self.rect = rect\n",
    "    "
   ]
  },
  {
   "cell_type": "code",
   "execution_count": 3,
   "metadata": {},
   "outputs": [],
   "source": [
    "def read_txt_file(path):\n",
    "    with open(path) as f:\n",
    "     lines = f.readlines()\n",
    "     return lines"
   ]
  },
  {
   "cell_type": "code",
   "execution_count": 4,
   "metadata": {},
   "outputs": [],
   "source": [
    "actors_lines = read_txt_file(face_scrub_actors_data)\n",
    "actress_lines = read_txt_file(face_scrub_actress_data)"
   ]
  },
  {
   "cell_type": "code",
   "execution_count": 8,
   "metadata": {},
   "outputs": [
    {
     "name": "stdout",
     "output_type": "stream",
     "text": [
      "['name\\timage_id\\tface_id\\turl\\tbbox\\tsha256\\n', 'Aaron Eckhart\\t1\\t1\\thttp://upload.wikimedia.org/wikipedia/commons/5/5d/AaronEckhart10TIFF.jpg\\t53,177,418,542\\tdec996994cf1eec33b53c203cff0e8f25638829fa2ad71bb0307d308fa11cdac\\n', 'Aaron Eckhart\\t2\\t2\\thttp://movies.dosthana.com/sites/default/files/image-gallery/Aaron-Eckhart-Image.jpg\\t80,102,260,282\\tf84d0c3b1b854a51e6bc031bc353e801834e81df795e85ec1589ca895fb7c1ae\\n', 'Aaron Eckhart\\t3\\t3\\thttp://upload.wikimedia.org/wikipedia/commons/5/52/Aaron_Eckhart_-_002.jpg\\t203,802,975,1574\\t8548658ef00f2ac4c384fbfff9d3ae225b4b9e0c2aa45e79a97420381c0f84c9\\n', 'Aaron Eckhart\\t4\\t4\\thttp://25.media.tumblr.com/nJ2vga5sae9o2ks4FltK2lYvo1_400.jpg\\t62,90,231,259\\t658d83f35859d2f313ff660c1900427c21eae1c41e3035307428f62b645e64d7\\n', 'Aaron Eckhart\\t5\\t5\\thttp://upload.wikimedia.org/wikipedia/commons/5/5e/Aaron-Eckhart-Traveling.jpg\\t276,120,492,336\\t1fa14fed3371280e8785df42cdc5d0335e7923a38f1b0632e3b88a52e850825f\\n', 'Aaron Eckhart\\t6\\t6\\thttp://media.zenfs.com/en_us/Movies/PhotoG/2nd-annual-ampas-governors-awards-2010-aaron-eckhart-53335.jpg\\t235,158,540,463\\t121e8bea5caae215b537dc116534bbd2fa7a9a60c1910764d78794ec185aa527\\n', 'Aaron Eckhart\\t7\\t7\\thttp://img2.timeinc.net/people/i/2008/news/080804/aaron_eckhart.jpg\\t60,57,178,175\\tbb2e227a9420d6325b67974231d334fc4620e807543a16030d51b35fa8a092f3\\n', 'Aaron Eckhart\\t8\\t8\\thttp://latimesblogs.latimes.com/photos/uncategorized/2008/11/17/aaron_eckhart.jpg\\t30,149,326,445\\t4937ad41d13c493f6b1bd5dfd560c3b2a4bf3fdeb973158bd136d6218be438f4\\n', 'Aaron Eckhart\\t9\\t9\\thttp://collider.com/wp-content/uploads/Aaron-Eckhart-as-Sanderson-in-THE-RUM-DIARY_rgb.jpg\\t697,733,1878,1914\\t3705523152829d26aa5691a81f61f4708d10231a6c5b97d95c6cb66c6cc52c58\\n']\n"
     ]
    }
   ],
   "source": [
    "print(actors_lines[:10])"
   ]
  },
  {
   "cell_type": "code",
   "execution_count": 10,
   "metadata": {},
   "outputs": [
    {
     "data": {
      "text/plain": [
       "['Aaron',\n",
       " 'Eckhart',\n",
       " '1',\n",
       " '1',\n",
       " 'http://upload.wikimedia.org/wikipedia/commons/5/5d/AaronEckhart10TIFF.jpg',\n",
       " '53,177,418,542',\n",
       " 'dec996994cf1eec33b53c203cff0e8f25638829fa2ad71bb0307d308fa11cdac']"
      ]
     },
     "execution_count": 10,
     "metadata": {},
     "output_type": "execute_result"
    }
   ],
   "source": [
    "actors_lines[1].split()"
   ]
  },
  {
   "cell_type": "code",
   "execution_count": null,
   "metadata": {},
   "outputs": [],
   "source": [
    "\n",
    "for actor in actors_lines:\n",
    "    "
   ]
  },
  {
   "cell_type": "code",
   "execution_count": null,
   "metadata": {},
   "outputs": [],
   "source": [
    "def create_actor_object(actor):\n",
    "    data = actor.split()\n",
    "    rect_data = data[5].split(',')\n",
    "    rect = Rectangle(rect_data[0], rect_data[1], rect_data[2], rect_data[3])"
   ]
  },
  {
   "cell_type": "code",
   "execution_count": null,
   "metadata": {},
   "outputs": [],
   "source": [
    "url = 'https://www.facebook.com/favicon.ico'\n",
    "r = requests.get(url, allow_redirects=True)\n",
    "file = open('facebook.ico', 'wb')\n",
    "file.write(r.content)\n",
    "file.close()"
   ]
  },
  {
   "cell_type": "code",
   "execution_count": 5,
   "metadata": {},
   "outputs": [],
   "source": [
    "def download_file(url, path):\n",
    "    with requests.get(url, allow_redirects=True) as r:\n",
    "        if r.ok:\n",
    "            with open(path, 'wb') as f:\n",
    "                f.write(r.content)"
   ]
  },
  {
   "cell_type": "code",
   "execution_count": null,
   "metadata": {},
   "outputs": [],
   "source": [
    "for actor in actress_lines:\n",
    "    url = actor.split()[5]\n",
    "    a = urlparse(url)\n",
    "    path = os.path.join(actress_dir, os.path.basename(a.path))\n",
    "    try:\n",
    "        download_file(url, path)\n",
    "    except:\n",
    "        pass\n"
   ]
  },
  {
   "cell_type": "code",
   "execution_count": null,
   "metadata": {},
   "outputs": [],
   "source": []
  }
 ],
 "metadata": {
  "interpreter": {
   "hash": "b4ae1a2dfccc258e213990e4588dc174deff5b5e9cb9d51b0f9c360619f30fdc"
  },
  "kernelspec": {
   "display_name": "Python 3 (ipykernel)",
   "language": "python",
   "name": "python3"
  },
  "language_info": {
   "codemirror_mode": {
    "name": "ipython",
    "version": 3
   },
   "file_extension": ".py",
   "mimetype": "text/x-python",
   "name": "python",
   "nbconvert_exporter": "python",
   "pygments_lexer": "ipython3",
   "version": "3.8.8"
  }
 },
 "nbformat": 4,
 "nbformat_minor": 2
}
